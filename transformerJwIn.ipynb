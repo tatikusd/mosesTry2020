{
  "nbformat": 4,
  "nbformat_minor": 0,
  "metadata": {
    "colab": {
      "name": "Untitled0.ipynb",
      "provenance": [],
      "authorship_tag": "ABX9TyOvDIen3CIVVODF+lFpfIlr",
      "include_colab_link": true
    },
    "kernelspec": {
      "name": "python3",
      "display_name": "Python 3"
    }
  },
  "cells": [
    {
      "cell_type": "markdown",
      "metadata": {
        "id": "view-in-github",
        "colab_type": "text"
      },
      "source": [
        "<a href=\"https://colab.research.google.com/github/tatikusd/mosesTry2020/blob/master/transformerJwIn.ipynb\" target=\"_parent\"><img src=\"https://colab.research.google.com/assets/colab-badge.svg\" alt=\"Open In Colab\"/></a>"
      ]
    },
    {
      "cell_type": "code",
      "metadata": {
        "id": "3uF1RVM1VAjJ",
        "outputId": "c4df1e86-8ead-4eed-9117-f3e4a3563e85",
        "colab": {
          "base_uri": "https://localhost:8080/",
          "height": 34
        }
      },
      "source": [
        "from google.colab import drive\n",
        "drive.mount('/content/drive')\n"
      ],
      "execution_count": null,
      "outputs": [
        {
          "output_type": "stream",
          "text": [
            "Mounted at /content/drive\n"
          ],
          "name": "stdout"
        }
      ]
    },
    {
      "cell_type": "code",
      "metadata": {
        "id": "l6fYy9QWVmRD",
        "outputId": "413b120b-1bd2-43e9-9210-575c75693842",
        "colab": {
          "base_uri": "https://localhost:8080/",
          "height": 581
        }
      },
      "source": [
        "!git clone https://github.com/pytorch/fairseq\n",
        "!pip install fastBPE regex requests sacremoses subword_nmt\n"
      ],
      "execution_count": null,
      "outputs": [
        {
          "output_type": "stream",
          "text": [
            "Cloning into 'fairseq'...\n",
            "remote: Enumerating objects: 17815, done.\u001b[K\n",
            "remote: Total 17815 (delta 0), reused 0 (delta 0), pack-reused 17815\u001b[K\n",
            "Receiving objects: 100% (17815/17815), 8.12 MiB | 23.03 MiB/s, done.\n",
            "Resolving deltas: 100% (13202/13202), done.\n",
            "Collecting fastBPE\n",
            "  Downloading https://files.pythonhosted.org/packages/e1/37/f97181428a5d151501b90b2cebedf97c81b034ace753606a3cda5ad4e6e2/fastBPE-0.1.0.tar.gz\n",
            "Requirement already satisfied: regex in /usr/local/lib/python3.6/dist-packages (2019.12.20)\n",
            "Requirement already satisfied: requests in /usr/local/lib/python3.6/dist-packages (2.23.0)\n",
            "Collecting sacremoses\n",
            "\u001b[?25l  Downloading https://files.pythonhosted.org/packages/7d/34/09d19aff26edcc8eb2a01bed8e98f13a1537005d31e95233fd48216eed10/sacremoses-0.0.43.tar.gz (883kB)\n",
            "\u001b[K     |████████████████████████████████| 890kB 8.8MB/s \n",
            "\u001b[?25hCollecting subword_nmt\n",
            "  Downloading https://files.pythonhosted.org/packages/74/60/6600a7bc09e7ab38bc53a48a20d8cae49b837f93f5842a41fe513a694912/subword_nmt-0.3.7-py2.py3-none-any.whl\n",
            "Requirement already satisfied: certifi>=2017.4.17 in /usr/local/lib/python3.6/dist-packages (from requests) (2020.6.20)\n",
            "Requirement already satisfied: chardet<4,>=3.0.2 in /usr/local/lib/python3.6/dist-packages (from requests) (3.0.4)\n",
            "Requirement already satisfied: idna<3,>=2.5 in /usr/local/lib/python3.6/dist-packages (from requests) (2.10)\n",
            "Requirement already satisfied: urllib3!=1.25.0,!=1.25.1,<1.26,>=1.21.1 in /usr/local/lib/python3.6/dist-packages (from requests) (1.24.3)\n",
            "Requirement already satisfied: six in /usr/local/lib/python3.6/dist-packages (from sacremoses) (1.15.0)\n",
            "Requirement already satisfied: click in /usr/local/lib/python3.6/dist-packages (from sacremoses) (7.1.2)\n",
            "Requirement already satisfied: joblib in /usr/local/lib/python3.6/dist-packages (from sacremoses) (0.16.0)\n",
            "Requirement already satisfied: tqdm in /usr/local/lib/python3.6/dist-packages (from sacremoses) (4.41.1)\n",
            "Building wheels for collected packages: fastBPE, sacremoses\n",
            "  Building wheel for fastBPE (setup.py) ... \u001b[?25l\u001b[?25hdone\n",
            "  Created wheel for fastBPE: filename=fastBPE-0.1.0-cp36-cp36m-linux_x86_64.whl size=481510 sha256=d26bfb4f255eb5869302413b14da35cd94dbe49464371d21ced3811d63ec22f4\n",
            "  Stored in directory: /root/.cache/pip/wheels/f3/0c/9c/fc62058b4d473a5602bcd3d3edfece796f123875379ea82d79\n",
            "  Building wheel for sacremoses (setup.py) ... \u001b[?25l\u001b[?25hdone\n",
            "  Created wheel for sacremoses: filename=sacremoses-0.0.43-cp36-none-any.whl size=893257 sha256=e309ff5434deb25923e7273be84923661d8232af5430da21a73b8a15b62619c3\n",
            "  Stored in directory: /root/.cache/pip/wheels/29/3c/fd/7ce5c3f0666dab31a50123635e6fb5e19ceb42ce38d4e58f45\n",
            "Successfully built fastBPE sacremoses\n",
            "Installing collected packages: fastBPE, sacremoses, subword-nmt\n",
            "Successfully installed fastBPE-0.1.0 sacremoses-0.0.43 subword-nmt-0.3.7\n"
          ],
          "name": "stdout"
        }
      ]
    },
    {
      "cell_type": "code",
      "metadata": {
        "id": "u2uXLo3kWAeu",
        "outputId": "9060f27a-b8dd-481d-dc49-99f9c5e47c1e",
        "colab": {
          "base_uri": "https://localhost:8080/",
          "height": 34
        }
      },
      "source": [
        "cd fairseq/"
      ],
      "execution_count": null,
      "outputs": [
        {
          "output_type": "stream",
          "text": [
            "/content/fairseq\n"
          ],
          "name": "stdout"
        }
      ]
    },
    {
      "cell_type": "code",
      "metadata": {
        "id": "EutU0A_SWDpf",
        "outputId": "d04b2843-29f5-41fd-9fea-43ebe449f5a0",
        "colab": {
          "base_uri": "https://localhost:8080/",
          "height": 870
        }
      },
      "source": [
        "!pip install --editable . "
      ],
      "execution_count": null,
      "outputs": [
        {
          "output_type": "stream",
          "text": [
            "Obtaining file:///content/fairseq\n",
            "  Installing build dependencies ... \u001b[?25l\u001b[?25hdone\n",
            "  Getting requirements to build wheel ... \u001b[?25l\u001b[?25hdone\n",
            "  Installing backend dependencies ... \u001b[?25l\u001b[?25hdone\n",
            "    Preparing wheel metadata ... \u001b[?25l\u001b[?25hdone\n",
            "Requirement already satisfied: cffi in /usr/local/lib/python3.6/dist-packages (from fairseq==0.9.0) (1.14.2)\n",
            "Requirement already satisfied: numpy in /usr/local/lib/python3.6/dist-packages (from fairseq==0.9.0) (1.18.5)\n",
            "Collecting hydra-core\n",
            "\u001b[?25l  Downloading https://files.pythonhosted.org/packages/79/03/fee705ef16675a103d8e929255f5fa0ee79432ac38bafad6935d6ad170f9/hydra_core-1.0.3-py3-none-any.whl (122kB)\n",
            "\u001b[K     |████████████████████████████████| 122kB 4.1MB/s \n",
            "\u001b[?25hRequirement already satisfied: editdistance in /usr/local/lib/python3.6/dist-packages (from fairseq==0.9.0) (0.5.3)\n",
            "Requirement already satisfied: tqdm in /usr/local/lib/python3.6/dist-packages (from fairseq==0.9.0) (4.41.1)\n",
            "Requirement already satisfied: regex in /usr/local/lib/python3.6/dist-packages (from fairseq==0.9.0) (2019.12.20)\n",
            "Collecting sacrebleu\n",
            "\u001b[?25l  Downloading https://files.pythonhosted.org/packages/a3/c4/8e948f601a4f9609e8b2b58f31966cb13cf17b940b82aa3e767f01c42c52/sacrebleu-1.4.14-py3-none-any.whl (64kB)\n",
            "\u001b[K     |████████████████████████████████| 71kB 4.4MB/s \n",
            "\u001b[?25hRequirement already satisfied: dataclasses in /usr/local/lib/python3.6/dist-packages (from fairseq==0.9.0) (0.7)\n",
            "Requirement already satisfied: cython in /usr/local/lib/python3.6/dist-packages (from fairseq==0.9.0) (0.29.21)\n",
            "Requirement already satisfied: torch in /usr/local/lib/python3.6/dist-packages (from fairseq==0.9.0) (1.6.0+cu101)\n",
            "Requirement already satisfied: pycparser in /usr/local/lib/python3.6/dist-packages (from cffi->fairseq==0.9.0) (2.20)\n",
            "Collecting omegaconf>=2.0.2\n",
            "  Downloading https://files.pythonhosted.org/packages/72/fe/f8d162aa059fb4f327fd75144dd69aa7e8acbb6d8d37013e4638c8490e0b/omegaconf-2.0.2-py3-none-any.whl\n",
            "Collecting importlib-resources; python_version < \"3.9\"\n",
            "  Downloading https://files.pythonhosted.org/packages/ba/03/0f9595c0c2ef12590877f3c47e5f579759ce5caf817f8256d5dcbd8a1177/importlib_resources-3.0.0-py2.py3-none-any.whl\n",
            "Collecting antlr4-python3-runtime==4.8\n",
            "\u001b[?25l  Downloading https://files.pythonhosted.org/packages/56/02/789a0bddf9c9b31b14c3e79ec22b9656185a803dc31c15f006f9855ece0d/antlr4-python3-runtime-4.8.tar.gz (112kB)\n",
            "\u001b[K     |████████████████████████████████| 112kB 6.9MB/s \n",
            "\u001b[?25hCollecting portalocker\n",
            "  Downloading https://files.pythonhosted.org/packages/89/a6/3814b7107e0788040870e8825eebf214d72166adf656ba7d4bf14759a06a/portalocker-2.0.0-py2.py3-none-any.whl\n",
            "Requirement already satisfied: future in /usr/local/lib/python3.6/dist-packages (from torch->fairseq==0.9.0) (0.16.0)\n",
            "Collecting PyYAML>=5.1.*\n",
            "\u001b[?25l  Downloading https://files.pythonhosted.org/packages/64/c2/b80047c7ac2478f9501676c988a5411ed5572f35d1beff9cae07d321512c/PyYAML-5.3.1.tar.gz (269kB)\n",
            "\u001b[K     |████████████████████████████████| 276kB 8.2MB/s \n",
            "\u001b[?25hRequirement already satisfied: typing-extensions in /usr/local/lib/python3.6/dist-packages (from omegaconf>=2.0.2->hydra-core->fairseq==0.9.0) (3.7.4.3)\n",
            "Requirement already satisfied: zipp>=0.4; python_version < \"3.8\" in /usr/local/lib/python3.6/dist-packages (from importlib-resources; python_version < \"3.9\"->hydra-core->fairseq==0.9.0) (3.1.0)\n",
            "Building wheels for collected packages: antlr4-python3-runtime, PyYAML\n",
            "  Building wheel for antlr4-python3-runtime (setup.py) ... \u001b[?25l\u001b[?25hdone\n",
            "  Created wheel for antlr4-python3-runtime: filename=antlr4_python3_runtime-4.8-cp36-none-any.whl size=141230 sha256=7a05dc86645e9785d0de8a71ed3ec24a3957fc3c17b046e15b5bb8208f0f9cd2\n",
            "  Stored in directory: /root/.cache/pip/wheels/e3/e2/fa/b78480b448b8579ddf393bebd3f47ee23aa84c89b6a78285c8\n",
            "  Building wheel for PyYAML (setup.py) ... \u001b[?25l\u001b[?25hdone\n",
            "  Created wheel for PyYAML: filename=PyYAML-5.3.1-cp36-cp36m-linux_x86_64.whl size=44619 sha256=38278892de173a6db93779597a24d7c97faafcaabeb8d3028981e28aab2ebdce\n",
            "  Stored in directory: /root/.cache/pip/wheels/a7/c1/ea/cf5bd31012e735dc1dfea3131a2d5eae7978b251083d6247bd\n",
            "Successfully built antlr4-python3-runtime PyYAML\n",
            "Installing collected packages: PyYAML, omegaconf, importlib-resources, antlr4-python3-runtime, hydra-core, portalocker, sacrebleu, fairseq\n",
            "  Found existing installation: PyYAML 3.13\n",
            "    Uninstalling PyYAML-3.13:\n",
            "      Successfully uninstalled PyYAML-3.13\n",
            "  Running setup.py develop for fairseq\n",
            "Successfully installed PyYAML-5.3.1 antlr4-python3-runtime-4.8 fairseq hydra-core-1.0.3 importlib-resources-3.0.0 omegaconf-2.0.2 portalocker-2.0.0 sacrebleu-1.4.14\n"
          ],
          "name": "stdout"
        }
      ]
    },
    {
      "cell_type": "code",
      "metadata": {
        "id": "iA7vR6zKWvmc",
        "outputId": "4c0fb74e-e431-42fc-ce4c-d8a3d4f1065a",
        "colab": {
          "base_uri": "https://localhost:8080/",
          "height": 34
        }
      },
      "source": [
        "cd fairseq_cli/"
      ],
      "execution_count": null,
      "outputs": [
        {
          "output_type": "stream",
          "text": [
            "/content/fairseq/fairseq_cli\n"
          ],
          "name": "stdout"
        }
      ]
    },
    {
      "cell_type": "code",
      "metadata": {
        "id": "6PYvBWSRnlCO",
        "outputId": "26f67bec-31dd-4f0a-d560-e93dc16cf4be",
        "colab": {
          "base_uri": "https://localhost:8080/",
          "height": 1000
        }
      },
      "source": [
        "!python interactive.py  \\\n",
        "    --path /content/drive/My\\ Drive/t2t/checkpoint/checkpoint_best.pt  \\\n",
        "    --beam 5 --source-lang jw --target-lang id \\\n",
        "    --tokenizer moses \n"
      ],
      "execution_count": null,
      "outputs": [
        {
          "output_type": "stream",
          "text": [
            "usage: interactive.py [-h] [--no-progress-bar] [--log-interval N]\n",
            "                      [--log-format {json,none,simple,tqdm}]\n",
            "                      [--tensorboard-logdir DIR] [--seed N] [--cpu] [--tpu]\n",
            "                      [--bf16] [--fp16] [--memory-efficient-bf16]\n",
            "                      [--memory-efficient-fp16] [--fp16-no-flatten-grads]\n",
            "                      [--fp16-init-scale FP16_INIT_SCALE]\n",
            "                      [--fp16-scale-window FP16_SCALE_WINDOW]\n",
            "                      [--fp16-scale-tolerance FP16_SCALE_TOLERANCE]\n",
            "                      [--min-loss-scale D]\n",
            "                      [--threshold-loss-scale THRESHOLD_LOSS_SCALE]\n",
            "                      [--user-dir USER_DIR]\n",
            "                      [--empty-cache-freq EMPTY_CACHE_FREQ]\n",
            "                      [--all-gather-list-size ALL_GATHER_LIST_SIZE]\n",
            "                      [--model-parallel-size N]\n",
            "                      [--checkpoint-suffix CHECKPOINT_SUFFIX]\n",
            "                      [--quantization-config-path QUANTIZATION_CONFIG_PATH]\n",
            "                      [--profile]\n",
            "                      [--criterion {ctc,cross_entropy,composite_loss,wav2vec,label_smoothed_cross_entropy,label_smoothed_cross_entropy_with_alignment,adaptive_loss,sentence_prediction,legacy_masked_lm_loss,sentence_ranking,masked_lm,nat_loss,vocab_parallel_cross_entropy}]\n",
            "                      [--tokenizer {nltk,moses,space}]\n",
            "                      [--bpe {bytes,characters,gpt2,bert,fastbpe,byte_bpe,subword_nmt,hf_byte_bpe,sentencepiece}]\n",
            "                      [--optimizer {sgd,lamb,nag,adamax,adafactor,adam,adadelta,adagrad}]\n",
            "                      [--lr-scheduler {reduce_lr_on_plateau,tri_stage,triangular,polynomial_decay,inverse_sqrt,cosine,fixed}]\n",
            "                      [--scoring {sacrebleu,bleu,wer}] [--task TASK]\n",
            "                      [--num-workers N]\n",
            "                      [--skip-invalid-size-inputs-valid-test] [--max-tokens N]\n",
            "                      [--max-sentences N] [--required-batch-size-multiple N]\n",
            "                      [--required-seq-len-multiple N] [--dataset-impl FORMAT]\n",
            "                      [--data-buffer-size N] [--gen-subset SPLIT]\n",
            "                      [--num-shards N] [--shard-id ID]\n",
            "                      [--distributed-world-size N]\n",
            "                      [--distributed-rank DISTRIBUTED_RANK]\n",
            "                      [--distributed-backend DISTRIBUTED_BACKEND]\n",
            "                      [--distributed-init-method DISTRIBUTED_INIT_METHOD]\n",
            "                      [--distributed-port DISTRIBUTED_PORT]\n",
            "                      [--device-id DEVICE_ID] [--distributed-no-spawn]\n",
            "                      [--distributed-num-procs DISTRIBUTED_NUM_PROCS]\n",
            "                      [--ddp-backend {c10d,no_c10d}] [--bucket-cap-mb MB]\n",
            "                      [--fix-batches-to-gpus] [--find-unused-parameters]\n",
            "                      [--fast-stat-sync] [--broadcast-buffers]\n",
            "                      [--distributed-wrapper {DDP,SlowMo}]\n",
            "                      [--slowmo-momentum SLOWMO_MOMENTUM]\n",
            "                      [--slowmo-algorithm {LocalSGD,SGP}]\n",
            "                      [--localsgd-frequency LOCALSGD_FREQUENCY]\n",
            "                      [--nprocs-per-node N] [--pipeline-model-parallel]\n",
            "                      [--pipeline-balance N1,N2,...,N_K]\n",
            "                      [--pipeline-devices N1,N2,...,N_K] [--pipeline-chunks N]\n",
            "                      [--pipeline-checkpoint STR] [--zero-sharding {none,os}]\n",
            "                      [--path FILE] [--remove-bpe [REMOVE_BPE]] [--quiet]\n",
            "                      [--model-overrides DICT] [--results-path RESDIR]\n",
            "                      [--beam N] [--nbest N] [--max-len-a N] [--max-len-b N]\n",
            "                      [--min-len N] [--match-source-len] [--no-early-stop]\n",
            "                      [--unnormalized] [--no-beamable-mm] [--lenpen LENPEN]\n",
            "                      [--unkpen UNKPEN] [--replace-unk [REPLACE_UNK]]\n",
            "                      [--sacrebleu] [--score-reference] [--prefix-size PS]\n",
            "                      [--no-repeat-ngram-size N] [--sampling]\n",
            "                      [--sampling-topk PS] [--sampling-topp PS]\n",
            "                      [--constraints [{ordered,unordered}]] [--temperature N]\n",
            "                      [--diverse-beam-groups N] [--diverse-beam-strength N]\n",
            "                      [--diversity-rate N] [--print-alignment] [--print-step]\n",
            "                      [--iter-decode-eos-penalty N] [--iter-decode-max-iter N]\n",
            "                      [--iter-decode-force-max-iter]\n",
            "                      [--iter-decode-with-beam N]\n",
            "                      [--iter-decode-with-external-reranker]\n",
            "                      [--retain-iter-history] [--retain-dropout]\n",
            "                      [--retain-dropout-modules RETAIN_DROPOUT_MODULES [RETAIN_DROPOUT_MODULES ...]]\n",
            "                      [--decoding-format {unigram,ensemble,vote,dp,bs}]\n",
            "                      [--buffer-size N] [--input FILE]\n",
            "                      [--moses-source-lang SRC] [--moses-target-lang TARGET]\n",
            "                      [--moses-no-dash-splits] [--moses-no-escape]\n",
            "                      [--force-anneal N] [--lr-shrink LS] [--warmup-updates N]\n",
            "                      [-s SRC] [-t TARGET] [--load-alignments]\n",
            "                      [--left-pad-source BOOL] [--left-pad-target BOOL]\n",
            "                      [--max-source-positions N] [--max-target-positions N]\n",
            "                      [--upsample-primary UPSAMPLE_PRIMARY]\n",
            "                      [--truncate-source] [--num-batch-buckets N]\n",
            "                      [--eval-bleu] [--eval-bleu-detok EVAL_BLEU_DETOK]\n",
            "                      [--eval-bleu-detok-args JSON] [--eval-tokenized-bleu]\n",
            "                      [--eval-bleu-remove-bpe [EVAL_BLEU_REMOVE_BPE]]\n",
            "                      [--eval-bleu-args JSON] [--eval-bleu-print-samples]\n",
            "                      data\n",
            "interactive.py: error: the following arguments are required: data\n"
          ],
          "name": "stdout"
        }
      ]
    },
    {
      "cell_type": "code",
      "metadata": {
        "id": "9j4lCsKXp9LO",
        "outputId": "c5d89f86-eb00-42e3-8853-124c99260c12",
        "colab": {
          "base_uri": "https://localhost:8080/",
          "height": 1000
        }
      },
      "source": [
        "!python interactive.py /content/drive/My\\ Drive/t2t/data/data-bin \\\n",
        "    --path /content/drive/My\\ Drive/t2t/checkpoint/checkpoint_best.pt  \\\n",
        "    --beam 5 "
      ],
      "execution_count": null,
      "outputs": [
        {
          "output_type": "stream",
          "text": [
            "2020-09-27 09:44:26 | INFO | fairseq_cli.interactive | Namespace(all_gather_list_size=16384, beam=5, bf16=False, bpe=None, broadcast_buffers=False, bucket_cap_mb=25, buffer_size=1, checkpoint_suffix='', constraints=None, cpu=False, criterion='cross_entropy', data='/content/drive/My Drive/t2t/data/data-bin', data_buffer_size=10, dataset_impl=None, ddp_backend='c10d', decoding_format=None, device_id=0, distributed_backend='nccl', distributed_init_method=None, distributed_no_spawn=False, distributed_num_procs=0, distributed_port=-1, distributed_rank=0, distributed_world_size=1, distributed_wrapper='DDP', diverse_beam_groups=-1, diverse_beam_strength=0.5, diversity_rate=-1.0, empty_cache_freq=0, eval_bleu=False, eval_bleu_args=None, eval_bleu_detok='space', eval_bleu_detok_args=None, eval_bleu_print_samples=False, eval_bleu_remove_bpe=None, eval_tokenized_bleu=False, fast_stat_sync=False, find_unused_parameters=False, fix_batches_to_gpus=False, force_anneal=None, fp16=False, fp16_init_scale=128, fp16_no_flatten_grads=False, fp16_scale_tolerance=0.0, fp16_scale_window=None, gen_subset='test', input='-', iter_decode_eos_penalty=0.0, iter_decode_force_max_iter=False, iter_decode_max_iter=10, iter_decode_with_beam=1, iter_decode_with_external_reranker=False, left_pad_source='True', left_pad_target='False', lenpen=1, load_alignments=False, localsgd_frequency=3, log_format=None, log_interval=100, lr_scheduler='fixed', lr_shrink=0.1, match_source_len=False, max_len_a=0, max_len_b=200, max_sentences=1, max_source_positions=1024, max_target_positions=1024, max_tokens=None, memory_efficient_bf16=False, memory_efficient_fp16=False, min_len=1, min_loss_scale=0.0001, model_overrides='{}', model_parallel_size=1, nbest=1, no_beamable_mm=False, no_early_stop=False, no_progress_bar=False, no_repeat_ngram_size=0, no_seed_provided=True, nprocs_per_node=1, num_batch_buckets=0, num_shards=1, num_workers=1, optimizer=None, path='/content/drive/My Drive/t2t/checkpoint/checkpoint_best.pt', pipeline_balance=None, pipeline_checkpoint='never', pipeline_chunks=None, pipeline_devices=None, pipeline_model_parallel=False, prefix_size=0, print_alignment=False, print_step=False, profile=False, quantization_config_path=None, quiet=False, remove_bpe=None, replace_unk=None, required_batch_size_multiple=8, required_seq_len_multiple=1, results_path=None, retain_dropout=False, retain_dropout_modules=None, retain_iter_history=False, sacrebleu=False, sampling=False, sampling_topk=-1, sampling_topp=-1.0, score_reference=False, scoring='bleu', seed=1, shard_id=0, skip_invalid_size_inputs_valid_test=False, slowmo_algorithm='LocalSGD', slowmo_momentum=None, source_lang=None, target_lang=None, task='translation', temperature=1.0, tensorboard_logdir='', threshold_loss_scale=None, tokenizer=None, tpu=False, truncate_source=False, unkpen=0, unnormalized=False, upsample_primary=1, user_dir=None, warmup_updates=0, zero_sharding='none')\n",
            "2020-09-27 09:44:26 | INFO | fairseq.tasks.translation | [jw] dictionary: 6600 types\n",
            "2020-09-27 09:44:26 | INFO | fairseq.tasks.translation | [in] dictionary: 6600 types\n",
            "2020-09-27 09:44:26 | INFO | fairseq_cli.interactive | loading model(s) from /content/drive/My Drive/t2t/checkpoint/checkpoint_best.pt\n",
            "2020-09-27 09:44:28 | INFO | fairseq_cli.interactive | NOTE: hypothesis and token scores are output in base 2\n",
            "2020-09-27 09:44:28 | INFO | fairseq_cli.interactive | Type the input sentence and press return:\n",
            "pak nala jinjit ,   ning ujug-ujug kempole mbak prengkel\n",
            "S-0\tpak nala jinjit , ning ujug-ujug <unk> mbak <unk>\n",
            "W-0\t0.386\tseconds\n",
            "H-0\t-1.4724547863006592\tpak nala gemar menjawab , tapi pendapat dr. sulianti segala !\n",
            "D-0\t-1.4724547863006592\tpak nala gemar menjawab , tapi pendapat dr. sulianti segala !\n",
            "P-0\t-0.0712 -0.0424 -1.9650 -4.8834 -0.0737 -0.0521 -3.9412 -2.4069 -0.8807 -2.8598 -0.4205 -0.0727\n",
            "lagi arep wiwit ,   pak nala wis krenggosan\n",
            "S-1\tlagi arep wiwit , pak nala wis <unk>\n",
            "W-1\t0.428\tseconds\n",
            "H-1\t-0.560437798500061\tsedang mulai , pak nala , saudaranya pak nala .\n",
            "D-1\t-0.560437798500061\tsedang mulai , pak nala , saudaranya pak nala .\n",
            "P-1\t-0.2201 -0.0594 -0.2692 -0.1031 -0.0549 -0.2858 -4.7575 -0.0536 -0.0407 -0.2447 -0.0757\n",
            "para simbok simbok nekdha tandur ora pakaian newlook , ora nganggo selop jinjit \n",
            "S-2\tpara simbok simbok nekdha tandur ora pakaian newlook , ora nganggo selop jinjit\n",
            "W-2\t0.609\tseconds\n",
            "H-2\t-0.03488494083285332\tpara simbok-simbok kalau sedang menanam padi tidak pakai pakaian newlook , tidak pakai selop hak tinggi !\n",
            "D-2\t-0.03488494083285332\tpara simbok-simbok kalau sedang menanam padi tidak pakai pakaian newlook , tidak pakai selop hak tinggi !\n",
            "P-2\t-0.0431 -0.0169 -0.0253 -0.0038 -0.0083 -0.0118 -0.0761 -0.0173 -0.0086 -0.0046 -0.0760 -0.1021 -0.0198 -0.0072 -0.0092 -0.0020 -0.1215 -0.0744\n",
            "pak nala jinjit\n",
            "S-3\tpak nala jinjit\n",
            "W-3\t0.197\tseconds\n",
            "H-3\t-1.1811522245407104\tpak nala exits !\n",
            "D-3\t-1.1811522245407104\tpak nala exits !\n",
            "P-3\t-0.0571 -0.0447 -5.6151 -0.1104 -0.0785\n",
            "akeh wong padha olah ilat \n",
            "S-4\takeh wong padha <unk> <unk>\n",
            "W-4\t0.298\tseconds\n",
            "H-4\t-2.235124111175537\tbanyak orang makan ke mana !\n",
            "D-4\t-2.235124111175537\tbanyak orang makan ke mana !\n",
            "P-4\t-0.0830 -0.0450 -6.8220 -2.6034 -5.5931 -0.4239 -0.0754\n",
            "nek saiki para ibu nganggo lengen cendhak\n",
            "S-5\tnek saiki para ibu nganggo lengen cendhak\n",
            "W-5\t0.300\tseconds\n",
            "H-5\t-0.5204342007637024\tkalau sekarang para ibu ! ...\n",
            "D-5\t-0.5204342007637024\tkalau sekarang para ibu ! ...\n",
            "P-5\t-0.0645 -0.2865 -0.0260 -2.8790 -0.2971 -0.0349 -0.0550\n",
            "ibu tindhak peken\n",
            "S-6\tibu <unk> <unk>\n",
            "W-6\t0.192\tseconds\n",
            "H-6\t-2.162966728210449\tperrrrr !\n",
            "D-6\t-2.162966728210449\tperrrrr !\n",
            "P-6\t-6.2878 -0.1270 -0.0741\n",
            "ibu lunga pasar\n",
            "S-7\tibu <unk> pasar\n",
            "W-7\t0.162\tseconds\n",
            "H-7\t-1.89837646484375\tibu di sawah !\n",
            "D-7\t-1.89837646484375\tibu di sawah !\n",
            "P-7\t-4.2522 -0.4642 -3.7856 -0.9175 -0.0722\n",
            "ibu nang sawah\n",
            "S-8\tibu nang sawah\n",
            "W-8\t0.225\tseconds\n",
            "H-8\t-0.907592236995697\tibu di sawah yang sawah !\n",
            "D-8\t-0.907592236995697\tibu di sawah yang sawah !\n",
            "P-8\t-2.0850 -0.1756 -0.0299 -2.4905 -1.3231 -0.1230 -0.1260\n",
            "njut nang ndi bae\n",
            "S-9\tnjut nang <unk> bae\n",
            "W-9\t0.307\tseconds\n",
            "H-9\t-1.646080732345581\tterus di sungai saja !\n",
            "D-9\t-1.646080732345581\tterus di sungai saja !\n",
            "P-9\t-1.6612 -2.4840 -5.5316 -0.0899 -0.0319 -0.0779\n",
            "ibu lunga menyang kali\n",
            "S-10\tibu <unk> menyang kali\n",
            "W-10\t0.219\tseconds\n",
            "H-10\t-1.202738881111145\tibu ke jogja di sungai !\n",
            "D-10\t-1.202738881111145\tibu ke jogja di sungai !\n",
            "P-10\t-3.2856 -1.3691 -1.3037 -1.3527 -0.9627 -0.0728 -0.0725\n"
          ],
          "name": "stdout"
        }
      ]
    }
  ]
}